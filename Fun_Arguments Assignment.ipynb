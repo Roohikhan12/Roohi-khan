{
 "cells": [
  {
   "cell_type": "code",
   "execution_count": 10,
   "id": "88cfe44e",
   "metadata": {},
   "outputs": [
    {
     "name": "stdout",
     "output_type": "stream",
     "text": [
      "10\n",
      "20\n",
      "30\n"
     ]
    },
    {
     "data": {
      "text/plain": [
       "60"
      ]
     },
     "execution_count": 10,
     "metadata": {},
     "output_type": "execute_result"
    }
   ],
   "source": [
    " #positional\n",
    "    \n",
    "def ex1(a,b,c):\n",
    "    print(a)\n",
    "    print(b)\n",
    "    print(c)\n",
    "    return a+b+c\n",
    "ex1(10,20,30)"
   ]
  },
  {
   "cell_type": "code",
   "execution_count": 11,
   "id": "8a562ed6",
   "metadata": {},
   "outputs": [
    {
     "name": "stdout",
     "output_type": "stream",
     "text": [
      "d value is 1\n",
      "e value is 3.3\n",
      "f value is 6\n"
     ]
    }
   ],
   "source": [
    "def ex2(d,e,f):\n",
    "    print(f\"d value is {d}\")\n",
    "    print(f\"e value is {e}\")\n",
    "    print(f\"f value is {f}\")\n",
    "ex2(e=3.3,f=6,d=1)  "
   ]
  },
  {
   "cell_type": "code",
   "execution_count": 12,
   "id": "c7e466c7",
   "metadata": {},
   "outputs": [
    {
     "data": {
      "text/plain": [
       "17"
      ]
     },
     "execution_count": 12,
     "metadata": {},
     "output_type": "execute_result"
    }
   ],
   "source": [
    "def ex3(x,y,z,a,):\n",
    "    return x+y+z+a\n",
    "ex3(2,4,5,6,)"
   ]
  },
  {
   "cell_type": "code",
   "execution_count": 13,
   "id": "e16ebf75",
   "metadata": {},
   "outputs": [
    {
     "name": "stdout",
     "output_type": "stream",
     "text": [
      "value of a is 5\n",
      "value of b is 7\n",
      "value of c is 5\n",
      "value of d is 2\n",
      "value of f is 10\n"
     ]
    }
   ],
   "source": [
    "#Positional and Keyword\n",
    "\n",
    "def ex4(a,b,c=5,d=6,f=10):\n",
    "    print(f\"value of a is {a}\")\n",
    "    print(f\"value of b is {b}\")\n",
    "    print(f\"value of c is {c}\")\n",
    "    print(f\"value of d is {d}\")\n",
    "    print(f\"value of f is {f}\")\n",
    "ex4(5,7,d=2)"
   ]
  },
  {
   "cell_type": "code",
   "execution_count": 14,
   "id": "18f1eb98",
   "metadata": {},
   "outputs": [
    {
     "name": "stdout",
     "output_type": "stream",
     "text": [
      "value for a : 20\n",
      "value for b : 30\n",
      "value for args : (12, 'korea')\n"
     ]
    }
   ],
   "source": [
    "#Positional, Variable Length\n",
    "\n",
    "def ex5(a,b,*args):\n",
    "    print('value for a :', a)\n",
    "    print('value for b :' ,b)\n",
    "    print('value for args :', args)\n",
    "ex5(20,30,12,\"korea\")"
   ]
  },
  {
   "cell_type": "code",
   "execution_count": 15,
   "id": "ac59a3ea",
   "metadata": {},
   "outputs": [
    {
     "name": "stdout",
     "output_type": "stream",
     "text": [
      "value of a: 40\n",
      "value of b: 50\n",
      "value of args: {'jk': 'maknae'}\n"
     ]
    }
   ],
   "source": [
    "#Positional, Variable length keyword arguments\n",
    "\n",
    "def ex6(a,b, **kwargs):\n",
    "    print(f\"value of a:\",a)\n",
    "    print(f\"value of b:\",b)\n",
    "    print(f\"value of args:\",kwargs)\n",
    "ex6(40,50,jk='maknae')"
   ]
  },
  {
   "cell_type": "code",
   "execution_count": 16,
   "id": "82235d58",
   "metadata": {},
   "outputs": [
    {
     "name": "stdout",
     "output_type": "stream",
     "text": [
      "value for j : 7\n",
      "value for k : 8\n",
      "value for l : 3\n",
      "value for args : ()\n"
     ]
    }
   ],
   "source": [
    "#Positional, keyword, variable length\n",
    "\n",
    "def ex7(j,k,l=3,*args):\n",
    "    print(f\"value for j :\",j)\n",
    "    print(f\"value for k :\",k)\n",
    "    print(f\"value for l :\",l)\n",
    "    print(f\"value for args :\",args)\n",
    "ex7(7,8)"
   ]
  },
  {
   "cell_type": "code",
   "execution_count": 17,
   "id": "dd8c44aa",
   "metadata": {},
   "outputs": [
    {
     "name": "stdout",
     "output_type": "stream",
     "text": [
      "value of r: 4\n",
      "value of s: 8\n",
      "value of t: 9\n",
      "value for args: (0.2, 11.3, 'true', 12)\n",
      "value for kwargs: {'bts': 'v'}\n"
     ]
    }
   ],
   "source": [
    "#Positional, keyword, variable length, Variable Length Keyword\n",
    "\n",
    "def ex8(r,s,t=5,*args ,**kwargs):\n",
    "    print(f\"value of r:\",r)\n",
    "    print(f\"value of s:\",s)\n",
    "    print(f\"value of t:\",t)\n",
    "    print(f\"value for args:\",args)\n",
    "    print(f\"value for kwargs:\",kwargs)\n",
    "ex8(4,8,9,0.2,11.3, \"true\",12,bts=\"v\")"
   ]
  },
  {
   "cell_type": "code",
   "execution_count": 18,
   "id": "3503836c",
   "metadata": {},
   "outputs": [
    {
     "data": {
      "text/plain": [
       "50"
      ]
     },
     "execution_count": 18,
     "metadata": {},
     "output_type": "execute_result"
    }
   ],
   "source": [
    "#Keyword\n",
    "def ex9(a=20,b=30):\n",
    "    return(a+b)\n",
    "ex9()"
   ]
  },
  {
   "cell_type": "code",
   "execution_count": 19,
   "id": "9e77c78c",
   "metadata": {},
   "outputs": [
    {
     "data": {
      "text/plain": [
       "40"
      ]
     },
     "execution_count": 19,
     "metadata": {},
     "output_type": "execute_result"
    }
   ],
   "source": [
    "ex9(10)"
   ]
  },
  {
   "cell_type": "code",
   "execution_count": 20,
   "id": "2e7a3c53",
   "metadata": {},
   "outputs": [
    {
     "name": "stdout",
     "output_type": "stream",
     "text": [
      "30\n"
     ]
    }
   ],
   "source": [
    "def ex10(b=40):\n",
    "    print(b)\n",
    "ex10(30)"
   ]
  },
  {
   "cell_type": "code",
   "execution_count": 21,
   "id": "adb7ed3a",
   "metadata": {},
   "outputs": [
    {
     "name": "stdout",
     "output_type": "stream",
     "text": [
      "value of r is: 10\n",
      "value of s is: 20\n",
      "value of args is: (11, 12, 13, 14)\n"
     ]
    }
   ],
   "source": [
    "#Keyword, Variable length\n",
    "\n",
    "def ex11(r=10,s=20,*args):\n",
    "    print(f\"value of r is:\",r)\n",
    "    print(f\"value of s is:\",s)\n",
    "    print(f\"value of args is:\",args)\n",
    "ex11(10,20,11,12,13,14)\n",
    "    "
   ]
  },
  {
   "cell_type": "code",
   "execution_count": 22,
   "id": "29725902",
   "metadata": {},
   "outputs": [
    {
     "name": "stdout",
     "output_type": "stream",
     "text": [
      "value of args: ('my name is',)\n",
      "value of a: kim\n",
      "value of b: taehyung\n"
     ]
    }
   ],
   "source": [
    "#variable length,keyword\n",
    "\n",
    "def ex17(*args,a=0.8,b=1.2):\n",
    "    print(f\"value of args:\",args)\n",
    "    print(f\"value of a:\",a)\n",
    "    print(f\"value of b:\",b)\n",
    "ex17(\"my name is\",a=\"kim\",b=\"taehyung\")"
   ]
  },
  {
   "cell_type": "code",
   "execution_count": 23,
   "id": "9bce46c9",
   "metadata": {},
   "outputs": [
    {
     "name": "stdout",
     "output_type": "stream",
     "text": [
      "30\n",
      "40\n",
      "{'r': 12}\n"
     ]
    }
   ],
   "source": [
    "#Keyword, Variable Length Keyword\n",
    "\n",
    "def ex12(x=30,y=40,**kwargs):\n",
    "    print(x)\n",
    "    print(y)\n",
    "    print(kwargs)\n",
    "ex12(r=12)"
   ]
  },
  {
   "cell_type": "code",
   "execution_count": 24,
   "id": "7b9e925c",
   "metadata": {},
   "outputs": [
    {
     "name": "stdout",
     "output_type": "stream",
     "text": [
      "value of j: 1\n",
      "value of k: 30\n",
      "value of v: 3\n",
      "value of args: (4, 5, 6, 7, 8)\n",
      "value of kwargs: {}\n"
     ]
    }
   ],
   "source": [
    "#keyword, variable length, Variable Length Keyword\n",
    "\n",
    "def ex13(j=10,k=30,v=40,*args,**kwargs):\n",
    "    print(f\"value of j:\",j)\n",
    "    print(f\"value of k:\",k)\n",
    "    print(f\"value of v:\",v)\n",
    "    print(f\"value of args:\",args)\n",
    "    print(f\"value of kwargs:\",kwargs)\n",
    "ex13(1,30,3,4,5,6,7,8)"
   ]
  },
  {
   "cell_type": "code",
   "execution_count": 25,
   "id": "065ca77f",
   "metadata": {},
   "outputs": [
    {
     "name": "stdout",
     "output_type": "stream",
     "text": [
      "value of args: (10, 1.5, 'bts')\n"
     ]
    }
   ],
   "source": [
    "#Variable Length\n",
    "\n",
    "def ex14(*args):\n",
    "    print(f\"value of args:\",args)\n",
    "ex14(10,1.5,\"bts\")"
   ]
  },
  {
   "cell_type": "code",
   "execution_count": 26,
   "id": "1e1484b9",
   "metadata": {},
   "outputs": [
    {
     "name": "stdout",
     "output_type": "stream",
     "text": [
      "value of args: (10, 20, 30)\n",
      "value of kwargs: {'bts': 'korea'}\n"
     ]
    }
   ],
   "source": [
    "#variable length, Variable Length Keyword\n",
    "\n",
    "def ex15(*args,**kwargs):\n",
    "    print(f\"value of args:\",args)\n",
    "    print(f\"value of kwargs:\",kwargs)\n",
    "ex15(10,20,30,bts=\"korea\")\n"
   ]
  },
  {
   "cell_type": "code",
   "execution_count": 27,
   "id": "843806e5",
   "metadata": {},
   "outputs": [
    {
     "name": "stdout",
     "output_type": "stream",
     "text": [
      "value of kwargs: {'v': 'kim taehyung'}\n"
     ]
    }
   ],
   "source": [
    "#Variable length Keyword\n",
    "\n",
    "def ex16(**kwargs):\n",
    "    print(f\"value of kwargs:\",kwargs)\n",
    "ex16(v='kim taehyung')"
   ]
  },
  {
   "cell_type": "code",
   "execution_count": null,
   "id": "a096cfda",
   "metadata": {},
   "outputs": [],
   "source": []
  }
 ],
 "metadata": {
  "kernelspec": {
   "display_name": "Python 3 (ipykernel)",
   "language": "python",
   "name": "python3"
  },
  "language_info": {
   "codemirror_mode": {
    "name": "ipython",
    "version": 3
   },
   "file_extension": ".py",
   "mimetype": "text/x-python",
   "name": "python",
   "nbconvert_exporter": "python",
   "pygments_lexer": "ipython3",
   "version": "3.11.4"
  }
 },
 "nbformat": 4,
 "nbformat_minor": 5
}
