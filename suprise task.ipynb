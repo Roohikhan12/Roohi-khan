{
 "cells": [
  {
   "cell_type": "code",
   "execution_count": 48,
   "id": "ef4edc32",
   "metadata": {},
   "outputs": [
    {
     "name": "stdout",
     "output_type": "stream",
     "text": [
      "[1, 4, 9, 16, 25, 36, 49, 64, 81, 100]\n"
     ]
    }
   ],
   "source": [
    "#List Comprehension\n",
    "#Create a list comprehension that generates a list of squares of numbers from 1 to 10\n",
    "\n",
    "l=[1,2,3,4,5,6,7,8,9,10]\n",
    "r=[i**2 for i in range(1,11)]\n",
    "print(r)"
   ]
  },
  {
   "cell_type": "code",
   "execution_count": 51,
   "id": "4672d0ae",
   "metadata": {},
   "outputs": [
    {
     "name": "stdout",
     "output_type": "stream",
     "text": [
      "['apple', 'date']\n"
     ]
    }
   ],
   "source": [
    "#Given a list of words, create a list comprehension to filter out words that are longer than 5 characters.\n",
    "\n",
    "l1=['apple', 'banana', 'cherry', 'date', 'elderberry']\n",
    "r1=[i for i in l1 if len(i)<=5]\n",
    "print(r1)"
   ]
  },
  {
   "cell_type": "code",
   "execution_count": 18,
   "id": "edd827a5",
   "metadata": {},
   "outputs": [
    {
     "name": "stdout",
     "output_type": "stream",
     "text": [
      "[1, 2, 3, 4, 5, 6]\n"
     ]
    }
   ],
   "source": [
    "#Lists\n",
    "# Create a list containing the numbers 1 to 5 and then append the number 6 to it.\n",
    "\n",
    "l=[1,2,3,4,5]\n",
    "l.append(6)\n",
    "print(l)"
   ]
  },
  {
   "cell_type": "code",
   "execution_count": 53,
   "id": "ad5db6b3",
   "metadata": {},
   "outputs": [
    {
     "name": "stdout",
     "output_type": "stream",
     "text": [
      "[1, 2, 3, 4, 5, 6]\n"
     ]
    }
   ],
   "source": [
    "#Given two lists, merge them into a single list without duplicates.\n",
    "\n",
    "l1=[1,2,3,4]\n",
    "l2=[3,4,5,6]\n",
    "s=set(l1+l2)\n",
    "l=list(s)\n",
    "print(l)"
   ]
  },
  {
   "cell_type": "code",
   "execution_count": 54,
   "id": "5a12f80c",
   "metadata": {},
   "outputs": [
    {
     "data": {
      "text/plain": [
       "[2, 4, 6, 8, 10]"
      ]
     },
     "execution_count": 54,
     "metadata": {},
     "output_type": "execute_result"
    }
   ],
   "source": [
    "#Map:\n",
    "#Easy: Use the map function to double each element in a list.\n",
    "\n",
    "def double(i):\n",
    "    return i*2\n",
    "l=[1,2,3,4,5]\n",
    "list(map(double,l))\n"
   ]
  },
  {
   "cell_type": "code",
   "execution_count": 55,
   "id": "5fd7b125",
   "metadata": {},
   "outputs": [
    {
     "data": {
      "text/plain": [
       "['APPLE', 'BANANA', 'CHERRY']"
      ]
     },
     "execution_count": 55,
     "metadata": {},
     "output_type": "execute_result"
    }
   ],
   "source": [
    "#Use the map function to convert a list of strings to uppercase.\n",
    "\n",
    "def upper(str):\n",
    "    return str.upper()\n",
    "string_=['apple', 'banana', 'cherry']\n",
    "list(map(upper,string_))\n"
   ]
  },
  {
   "cell_type": "code",
   "execution_count": 56,
   "id": "4528cc8a",
   "metadata": {},
   "outputs": [
    {
     "name": "stdout",
     "output_type": "stream",
     "text": [
      "[2, 4, 6]\n"
     ]
    }
   ],
   "source": [
    "#Filter\n",
    "#Use the filter function to get all even numbers from a list.\n",
    "\n",
    "lst=[1,2,3,4,5,6]\n",
    "new_lst=list(filter(lambda x:x%2==0,lst))\n",
    "print(new_lst)\n",
    "\n"
   ]
  },
  {
   "cell_type": "code",
   "execution_count": 57,
   "id": "08a57ed9",
   "metadata": {},
   "outputs": [
    {
     "name": "stdout",
     "output_type": "stream",
     "text": [
      "['banana', 'blueberry']\n"
     ]
    }
   ],
   "source": [
    "#Use the filter function to get all words from a list that start with the letter 'b'.\n",
    "\n",
    "str= ['apple', 'banana', 'cherry', 'blueberry', 'date']\n",
    "new_lst=list(filter(lambda x:x[0]=='b',str))\n",
    "print(new_lst)\n"
   ]
  },
  {
   "cell_type": "code",
   "execution_count": 58,
   "id": "38067472",
   "metadata": {},
   "outputs": [
    {
     "data": {
      "text/plain": [
       "7"
      ]
     },
     "execution_count": 58,
     "metadata": {},
     "output_type": "execute_result"
    }
   ],
   "source": [
    "#functions\n",
    "#Write a function called add that takes two numbers as input and returns their sum.\n",
    "\n",
    "def add(a,b):\n",
    "    return a+b\n",
    "add(3,4)"
   ]
  },
  {
   "cell_type": "code",
   "execution_count": 61,
   "id": "ef0d389a",
   "metadata": {},
   "outputs": [
    {
     "data": {
      "text/plain": [
       "3.0"
      ]
     },
     "execution_count": 61,
     "metadata": {},
     "output_type": "execute_result"
    }
   ],
   "source": [
    "#Write a function called calculate_average that takes a\n",
    "#list of numbers as input and returns the average (mean) of those numbers\n",
    "\n",
    "def calculate_average(list):\n",
    "    avg=sum(list)/len(list)\n",
    "    return avg\n",
    "calculate_average([1, 2, 3, 4, 5])\n"
   ]
  },
  {
   "cell_type": "code",
   "execution_count": null,
   "id": "0e544aa5",
   "metadata": {},
   "outputs": [],
   "source": []
  }
 ],
 "metadata": {
  "kernelspec": {
   "display_name": "Python 3 (ipykernel)",
   "language": "python",
   "name": "python3"
  },
  "language_info": {
   "codemirror_mode": {
    "name": "ipython",
    "version": 3
   },
   "file_extension": ".py",
   "mimetype": "text/x-python",
   "name": "python",
   "nbconvert_exporter": "python",
   "pygments_lexer": "ipython3",
   "version": "3.11.4"
  }
 },
 "nbformat": 4,
 "nbformat_minor": 5
}
